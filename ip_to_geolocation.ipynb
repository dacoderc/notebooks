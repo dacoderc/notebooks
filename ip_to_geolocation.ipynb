{
 "cells": [
  {
   "cell_type": "markdown",
   "id": "66dbe00f-f853-4104-9ae5-eca311051dd7",
   "metadata": {
    "tags": []
   },
   "source": [
    "### Instructions for using this notebook:\n",
    "\n",
    "This is a demonstration for using Maxmind's free GeoLite database.\n",
    "\n",
    "1. First create a Maxmind account:https://www.maxmind.com/en/geolite2/signup?lang=en\n",
    "2. download the GeoLite database (I use the Geolite City .mmdb, not .csv)\n",
    "3. Unzip it and put the .mmdb file in the same folder as this notebook\n",
    "\n",
    "*Note that GeoLite databases are partial, inaccurate and doesn't fit Production environments. "
   ]
  },
  {
   "cell_type": "code",
   "execution_count": null,
   "id": "a159ea1a-3890-4003-90ce-966c1ed097c4",
   "metadata": {},
   "outputs": [
    {
     "ename": "",
     "evalue": "",
     "output_type": "error",
     "traceback": [
      "\u001b[1;31mRunning cells with 'Python 3.9.9 64-bit' requires ipykernel package.\n",
      "\u001b[1;31mRun the following command to install 'ipykernel' into the Python environment. \n",
      "\u001b[1;31mCommand: '/usr/local/bin/python3 -m pip install ipykernel -U --user --force-reinstall'"
     ]
    }
   ],
   "source": [
    "# Install Maxmind's own python library to read the database files:\n",
    "\n",
    "%pip install geoip2"
   ]
  },
  {
   "cell_type": "markdown",
   "id": "68ec6987-3fe7-443c-8dab-07ef1cfc3e45",
   "metadata": {},
   "source": [
    "Once installed, quering the database with an IP is fairly simple:"
   ]
  },
  {
   "cell_type": "code",
   "execution_count": null,
   "id": "d9241ea7-aed7-4c6b-a852-e1cdb3e12dc6",
   "metadata": {},
   "outputs": [
    {
     "ename": "",
     "evalue": "",
     "output_type": "error",
     "traceback": [
      "\u001b[1;31mRunning cells with 'Python 3.9.9 64-bit' requires ipykernel package.\n",
      "\u001b[1;31mRun the following command to install 'ipykernel' into the Python environment. \n",
      "\u001b[1;31mCommand: '/usr/local/bin/python3 -m pip install ipykernel -U --user --force-reinstall'"
     ]
    }
   ],
   "source": [
    "import geoip2.database\n",
    "\n",
    "# Open the database file, the location of the database needs to match your setup\n",
    "with geoip2.database.Reader('./files/GeoLite2-City.mmdb') as reader:\n",
    "    \n",
    "    # Query for a specific IP\n",
    "    response = reader.city('90.190.169.0')\n",
    "    print(f\"Continent: {response.continent.names['en']}\")\n",
    "    print(f\"Country: {response.country.names['en']}\")\n",
    "    print(f\"City: {response.city.names['en']}\")\n",
    "    print(f\"Coordinates: Lat {response.location.latitude} Long {response.location.longitude}\")\n",
    "    print(f\"Timezone: {response.location.time_zone}\")"
   ]
  },
  {
   "cell_type": "code",
   "execution_count": null,
   "id": "251a3952-929a-4f2c-8168-ec54659fe9a5",
   "metadata": {},
   "outputs": [
    {
     "ename": "",
     "evalue": "",
     "output_type": "error",
     "traceback": [
      "\u001b[1;31mRunning cells with 'Python 3.9.9 64-bit' requires ipykernel package.\n",
      "\u001b[1;31mRun the following command to install 'ipykernel' into the Python environment. \n",
      "\u001b[1;31mCommand: '/usr/local/bin/python3 -m pip install ipykernel -U --user --force-reinstall'"
     ]
    }
   ],
   "source": []
  }
 ],
 "metadata": {
  "kernelspec": {
   "display_name": "Python 3.9.9 64-bit",
   "language": "python",
   "name": "python3"
  },
  "language_info": {
   "codemirror_mode": {
    "name": "ipython",
    "version": 3
   },
   "file_extension": ".py",
   "mimetype": "text/x-python",
   "name": "python",
   "nbconvert_exporter": "python",
   "pygments_lexer": "ipython3",
   "version": "3.9.10"
  },
  "vscode": {
   "interpreter": {
    "hash": "aee8b7b246df8f9039afb4144a1f6fd8d2ca17a180786b69acc140d282b71a49"
   }
  }
 },
 "nbformat": 4,
 "nbformat_minor": 5
}
